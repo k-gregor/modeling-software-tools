{
 "cells": [
  {
   "metadata": {},
   "cell_type": "markdown",
   "source": [
    "# Simple output analysis of LPJ-GUESS modeling run\n",
    "\n",
    "Accompanying the Paper Gregor et al. (2025)\n",
    "\n",
    "The line plots below are interactive, you can zoom in for example.\n",
    "These plots are just a mere example that you can easily put interactive plots online."
   ],
   "id": "df32d942ab19a7ba"
  },
  {
   "metadata": {
    "ExecuteTime": {
     "end_time": "2025-03-04T12:38:31.235128Z",
     "start_time": "2025-03-04T12:38:31.203811Z"
    }
   },
   "cell_type": "code",
   "source": [
    "# defaults\n",
    "resolution = '1800arcsec'\n",
    "regionname = 'bavaria'\n",
    "model = 'chelsa-w5e5'\n",
    "\n",
    "# receives data from snakemake\n",
    "try:\n",
    "    from snakemake.script import snakemake\n",
    "\n",
    "    if snakemake.wildcards:\n",
    "        print('Reading variables from snakemake variables')\n",
    "        resolution = snakemake.wildcards['resolution']\n",
    "        regionname = snakemake.wildcards['regionname']\n",
    "        model = snakemake.wildcards['model']\n",
    "    else:\n",
    "        print('Note: code was run with snakemake. Executing output analysis with defaults')\n",
    "except ImportError as err:\n",
    "    print('Note: code was not called from within snakemake')\n",
    "\n",
    "print('Region:', regionname, ', resolution:', resolution, ', model:', model)\n",
    "outputdir = f'../../results/lpjguess_outputs_{model}_{resolution}_{regionname}/'\n",
    "carbon_pools_file = outputdir + 'cpool.out'\n",
    "gpp_file = outputdir + 'agpp.out'"
   ],
   "id": "bcfd09be46a65c92",
   "outputs": [
    {
     "name": "stdout",
     "output_type": "stream",
     "text": [
      "Note: code was not called from within snakemake\n",
      "Region: bavaria , resolution: 1800arcsec , model: chelsa-w5e5\n"
     ]
    }
   ],
   "execution_count": 1
  },
  {
   "metadata": {
    "ExecuteTime": {
     "end_time": "2025-03-04T12:38:31.644014Z",
     "start_time": "2025-03-04T12:38:31.301412Z"
    }
   },
   "cell_type": "code",
   "source": [
    "import pandas as pd\n",
    "import output_computations as comp\n",
    "import plotly.express as px\n",
    "import plotly.io as pio\n",
    "pio.renderers.default = \"iframe\""
   ],
   "id": "45808e6a1a131b6c",
   "outputs": [],
   "execution_count": 2
  },
  {
   "metadata": {},
   "cell_type": "markdown",
   "source": "# Total carbon content in vegetation (from simulation)",
   "id": "c5892a36edfd5c1d"
  },
  {
   "metadata": {
    "ExecuteTime": {
     "end_time": "2025-03-04T12:38:33.415554Z",
     "start_time": "2025-03-04T12:38:33.248470Z"
    }
   },
   "cell_type": "code",
   "source": [
    "M2_TO_KM2 = 1_000_000\n",
    "KG_TO_MT = 1_000_000\n",
    "\n",
    "carbon_pool = pd.read_csv(carbon_pools_file, sep='\\\\s+').set_index(['Lon', 'Lat', 'Year'])\n",
    "carbon_pool = comp.get_area_weighted_sum_per_year(carbon_pool, variable_name='VegC') / (M2_TO_KM2 * KG_TO_MT)\n",
    "\n",
    "fig_cpool = px.line(carbon_pool.reset_index(), x=\"Year\", y=\"value\", title=\"Vegetation Carbon\", labels={\"value\": \"MtC\"})\n",
    "fig_cpool.show()"
   ],
   "id": "85732f578b4faf68",
   "outputs": [
    {
     "data": {
      "text/html": [
       "<iframe\n",
       "    scrolling=\"no\"\n",
       "    width=\"100%\"\n",
       "    height=\"545px\"\n",
       "    src=\"iframe_figures/figure_3.html\"\n",
       "    frameborder=\"0\"\n",
       "    allowfullscreen\n",
       "></iframe>\n"
      ]
     },
     "metadata": {},
     "output_type": "display_data"
    }
   ],
   "execution_count": 3
  },
  {
   "metadata": {},
   "cell_type": "markdown",
   "source": "# Example plots for interactive maps (not from simulation)",
   "id": "f668a946eaf5467"
  },
  {
   "metadata": {
    "ExecuteTime": {
     "end_time": "2025-03-04T12:38:52.014923Z",
     "start_time": "2025-03-04T12:38:51.932665Z"
    }
   },
   "cell_type": "code",
   "source": [
    "cpool_map = pd.read_csv('../../resources/cpool_full_europe.csv', sep='\\\\s+')\n",
    "cpool_map = cpool_map[cpool_map['Year'] == 2010]\n",
    "\n",
    "fig = px.scatter_map(\n",
    "    cpool_map,\n",
    "    lat=\"Lat\",\n",
    "    lon=\"Lon\",\n",
    "    color=\"Total\",\n",
    "    hover_name=\"VegC\",\n",
    "    zoom=3,\n",
    "    center={\"lat\": 50, \"lon\": 14},\n",
    "    title=r\"Total Carbon Content (kgC/m2)\",\n",
    "    color_continuous_scale=\"viridis\",  # Use Viridis colormap\n",
    ")\n",
    "\n",
    "fig.update_traces(\n",
    "    marker=dict(size=15),\n",
    "    hovertemplate=\"Lon: %{lon}<br>Lat: %{lat}<br>\"\n",
    "                  \"Vegetation Carbon: %{customdata[0]} kgC/m2<br>\"\n",
    "                  \"Total Carbon: %{customdata[1]} kgC/m2\",\n",
    "    customdata=cpool_map[[\"VegC\", \"Total\"]].values\n",
    ")\n",
    "\n",
    "fig.show()"
   ],
   "id": "c65c884d0559961a",
   "outputs": [
    {
     "data": {
      "text/html": [
       "<iframe\n",
       "    scrolling=\"no\"\n",
       "    width=\"100%\"\n",
       "    height=\"545px\"\n",
       "    src=\"iframe_figures/figure_6.html\"\n",
       "    frameborder=\"0\"\n",
       "    allowfullscreen\n",
       "></iframe>\n"
      ]
     },
     "metadata": {},
     "output_type": "display_data"
    }
   ],
   "execution_count": 6
  },
  {
   "metadata": {},
   "cell_type": "markdown",
   "source": "# Example plot for interactive map with animation",
   "id": "453c7a4640be47b"
  },
  {
   "metadata": {
    "ExecuteTime": {
     "end_time": "2025-03-04T12:39:05.347360Z",
     "start_time": "2025-03-04T12:39:04.682677Z"
    }
   },
   "cell_type": "code",
   "source": [
    "gpp_map = pd.read_csv('../../resources/gpp_full_europe.csv', sep='\\\\s+')\n",
    "\n",
    "fig = px.scatter_map(\n",
    "    gpp_map,\n",
    "    lat=\"Lat\",\n",
    "    lon=\"Lon\",\n",
    "    animation_frame=\"Year\",\n",
    "    color=\"Total\",\n",
    "    title=r\"Gross Primary Production (kgC/m2/yr)\",\n",
    "    color_continuous_scale=\"viridis\",\n",
    "    center={\"lat\": 57, \"lon\": 30},\n",
    "    zoom=1.8,\n",
    ")\n",
    "\n",
    "min_value, max_value = 0, 1.5\n",
    "fig.update_layout(\n",
    "    coloraxis_colorbar=dict(\n",
    "        title=\"GPP\",\n",
    "        tickvals=[min_value, max_value],  # Ensure min/max ticks\n",
    "        ticktext=[f\"{min_value:.2f}\", f\"{max_value:.2f}\"]  # Show formatted min/max\n",
    "    ),\n",
    "    coloraxis=dict(\n",
    "        cmin=min_value,  # Set color scale range min\n",
    "        cmax=max_value   # Set color scale range max\n",
    "    )\n",
    ")\n",
    "\n",
    "fig.update_traces(\n",
    "    marker=dict(size=15),\n",
    "    hovertemplate=\"Lon: %{lon}<br>Lat: %{lat}<br>\"\n",
    "                  \"GPP: %{customdata[0]} kgC/m2/yr\",\n",
    "    customdata=gpp_map[[\"Total\"]].values\n",
    ")\n",
    "\n",
    "fig.show()"
   ],
   "id": "b46e4651e4c83e86",
   "outputs": [
    {
     "data": {
      "text/html": [
       "<iframe\n",
       "    scrolling=\"no\"\n",
       "    width=\"100%\"\n",
       "    height=\"545px\"\n",
       "    src=\"iframe_figures/figure_8.html\"\n",
       "    frameborder=\"0\"\n",
       "    allowfullscreen\n",
       "></iframe>\n"
      ]
     },
     "metadata": {},
     "output_type": "display_data"
    }
   ],
   "execution_count": 8
  },
  {
   "metadata": {},
   "cell_type": "code",
   "outputs": [],
   "execution_count": null,
   "source": "",
   "id": "66b0760e44ed06fc"
  }
 ],
 "metadata": {
  "kernelspec": {
   "display_name": "model-coding-paper",
   "language": "python",
   "name": "model-coding-paper"
  },
  "language_info": {
   "codemirror_mode": {
    "name": "ipython",
    "version": 2
   },
   "file_extension": ".py",
   "mimetype": "text/x-python",
   "name": "python",
   "nbconvert_exporter": "python",
   "pygments_lexer": "ipython2",
   "version": "2.7.6"
  }
 },
 "nbformat": 4,
 "nbformat_minor": 5
}
